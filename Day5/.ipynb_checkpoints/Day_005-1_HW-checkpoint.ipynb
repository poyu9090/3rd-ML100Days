{
 "cells": [
  {
   "cell_type": "code",
   "execution_count": 1,
   "metadata": {},
   "outputs": [],
   "source": [
    "import pandas as pd\n",
    "import numpy as np"
   ]
  },
  {
   "cell_type": "code",
   "execution_count": 38,
   "metadata": {},
   "outputs": [],
   "source": [
    " a = ['Taiwan','US','Thailand']\n",
    " b = np.random.randint(999999999,size=3)\n",
    "\n",
    "list_labels=['國家','人口']\n",
    "list_cols=[a,b]\n",
    "\n",
    "zipped=list(zip(list_labels,list_cols))\n",
    "  "
   ]
  },
  {
   "cell_type": "code",
   "execution_count": 41,
   "metadata": {
    "scrolled": true
   },
   "outputs": [
    {
     "name": "stdout",
     "output_type": "stream",
     "text": [
      "         國家         人口\n",
      "0    Taiwan  924780532\n",
      "1        US  618919122\n",
      "2  Thailand   24101472\n"
     ]
    }
   ],
   "source": [
    "v2=pd.DataFrame(dict(zipped))\n",
    "print(v2)"
   ]
  },
  {
   "cell_type": "code",
   "execution_count": 49,
   "metadata": {},
   "outputs": [
    {
     "name": "stdout",
     "output_type": "stream",
     "text": [
      "最多人的國家與人口\n",
      "----------------\n",
      "國家           US\n",
      "人口    924780532\n",
      "dtype: object\n"
     ]
    }
   ],
   "source": [
    "print(\"最多人的國家與人口\")\n",
    "print(\"----------------\")\n",
    "print(np.max(v2))"
   ]
  }
 ],
 "metadata": {
  "kernelspec": {
   "display_name": "Python 3",
   "language": "python",
   "name": "python3"
  },
  "language_info": {
   "codemirror_mode": {
    "name": "ipython",
    "version": 3
   },
   "file_extension": ".py",
   "mimetype": "text/x-python",
   "name": "python",
   "nbconvert_exporter": "python",
   "pygments_lexer": "ipython3",
   "version": "3.7.3"
  }
 },
 "nbformat": 4,
 "nbformat_minor": 2
}
